{
 "cells": [
  {
   "cell_type": "markdown",
   "metadata": {},
   "source": [
    "# Python Insights - Analisando Dados com Python\n",
    "\n",
    "### Case - Cancelamento de Clientes\n",
    "\n",
    "Você foi contratado por uma empresa com mais de 800 mil clientes para um projeto de Dados. Recentemente a empresa percebeu que da sua base total de clientes, a maioria são clientes inativos, ou seja, que já cancelaram o serviço.\n",
    "\n",
    "Precisando melhorar seus resultados ela quer conseguir entender os principais motivos desses cancelamentos e quais as ações mais eficientes para reduzir esse número.\n",
    "\n",
    "Base de dados e arquivos: https://drive.google.com/drive/folders/1uDesZePdkhiraJmiyeZ-w5tfc8XsNYFZ?usp=drive_link"
   ]
  },
  {
   "cell_type": "code",
   "execution_count": null,
   "metadata": {},
   "outputs": [],
   "source": [
    "# !pip install pandas openpyxl numpy nbformat plotly ipykernel\n",
    "# pandas -> base de dados\n",
    "# plotly -> criar gráficos dinâmicos\n",
    "import pandas as pd\n",
    "import plotly.express as px"
   ]
  },
  {
   "cell_type": "code",
   "execution_count": null,
   "metadata": {},
   "outputs": [],
   "source": [
    "# Passo 1: Importar a base de dados\n",
    "tabela = pd.read_csv(\"cancelamentos.csv\")"
   ]
  },
  {
   "cell_type": "code",
   "execution_count": null,
   "metadata": {},
   "outputs": [],
   "source": [
    "# Passo 2: Visualizar a base de dados (2 objetivos: entender as informações + encontrar problemas)\n",
    "display(tabela)"
   ]
  },
  {
   "cell_type": "code",
   "execution_count": null,
   "metadata": {},
   "outputs": [],
   "source": [
    "# Passo 3: Corrigir os problemas da base de dados\n",
    "    # Informações inuteis (informação que não te ajuda, te atrapalha)\n",
    "tabela = tabela.drop(columns=\"CustomerID\")\n",
    "    # Verificar as informações da base de dados (int -> inteiro | float -> com casa decimal  object -> texto)\n",
    "display(tabela.info())\n",
    "    # Excluir as linhas que têm valores vazios\n",
    "tabela = tabela.dropna()\n",
    "display(tabela.info())"
   ]
  },
  {
   "cell_type": "code",
   "execution_count": null,
   "metadata": {},
   "outputs": [],
   "source": [
    "# Passo 4: Análise Inicial (quantos clientes concelara,. qual o % de clientes)\n",
    "    # Quantos cancelaram\n",
    "display(tabela[\"cancelou\"].value_counts())\n",
    "    # Percentual de quantos cancelaram\n",
    "display(tabela[\"cancelou\"].value_counts(normalize=True)) # .map(\"{:.2%}\".format) -> mostra formatado em % com 2 casas decimais"
   ]
  },
  {
   "cell_type": "code",
   "execution_count": null,
   "metadata": {},
   "outputs": [],
   "source": [
    "# Passo 5: Análise a causa dos cencelamentos dos clientes\n",
    "    # Entender como cada coluna da base de dados impacta no cancelamento do cliente criando gráficos\n",
    "\n",
    "        # Criar o gráfico\n",
    "for coluna in tabela.columns:\n",
    "    grafico = px.histogram(tabela, x=coluna, color=\"cancelou\") # histogram -> tipo de gráfico\n",
    "        # Exibir o gráfico\n",
    "    grafico.show()"
   ]
  },
  {
   "cell_type": "code",
   "execution_count": null,
   "metadata": {},
   "outputs": [],
   "source": [
    "# Clientes com contrato MENSAl cancelam em 100% das vezes\n",
    "    # oferencer descontos em planos anuais e trimestrais\n",
    "# Clientes que LIGAM AO CALLCENTER mais de 4 vezes, cencelam 100% das vezes\n",
    "    # criar um processo para resolver problemas\n",
    "# Clientes com ATRASO NA FATURA com mais de 20 dias, cancelam 100% das vezes\n",
    "    # politica de resolver atrasos em menos dias\n",
    "\n",
    "# Clientes com GASTOS TOTAIS menores que 500, calcelam 100% das vezes\n",
    "# Clientes com IDADE acima de 50 anos, cancelam 100% das vezes\n",
    "\n",
    "# Previsão com resolução dos problemas:\n",
    "tabela = tabela[tabela[\"duracao_contrato\"] != \"Monthly\"]\n",
    "tabela = tabela[tabela[\"ligacoes_callcenter\"] <= 4]\n",
    "tabela = tabela[tabela[\"dias_atraso\"] <= 20]\n",
    "    # Exibir cancelamentos sem: CONTRATO MENSAL | 4+ LIGAÇÕES CALLCENTER | 20- DIAS DE ATRASO\n",
    "display(tabela[\"cancelou\"].value_counts())\n",
    "    # Exibir em porcentagem\n",
    "display(tabela[\"cancelou\"].value_counts(normalize=True))\n",
    "\n",
    "\n",
    "# ANTES DA RESOLUÇÃO DOS PROBLEMAS:\n",
    "    # 1.0    56.79%\n",
    "    # 0.0    43.21%\n",
    "\n",
    "# APÓS AS RESOLUÇÕES:\n",
    "    # 0.0    81.65%\n",
    "    # 1.0    18.35%"
   ]
  }
 ],
 "metadata": {
  "kernelspec": {
   "display_name": "Python 3",
   "language": "python",
   "name": "python3"
  },
  "language_info": {
   "codemirror_mode": {
    "name": "ipython",
    "version": 3
   },
   "file_extension": ".py",
   "mimetype": "text/x-python",
   "name": "python",
   "nbconvert_exporter": "python",
   "pygments_lexer": "ipython3",
   "version": "3.13.3"
  },
  "orig_nbformat": 4
 },
 "nbformat": 4,
 "nbformat_minor": 2
}
