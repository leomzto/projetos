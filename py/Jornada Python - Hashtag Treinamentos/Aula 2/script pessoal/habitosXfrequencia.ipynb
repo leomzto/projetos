{
 "cells": [
  {
   "cell_type": "markdown",
   "metadata": {},
   "source": [
    "### Case - Analise entre hábitos dos estudantes e performance academica\n",
    "\n",
    "Neste case, meu objetivo é analisar como diferentes hábitos e características pessoais dos estudantes se relacionam com a performance acadêmica, a partir de um conjunto de dados que inclui informações como: idade, gênero, tempo médio de estudo por dia, uso de redes sociais, sono, qualidade da alimentação, entre outros fatores.\n",
    "\n",
    "Utilizando dados estruturados — como porcentagem de frequência às aulas, horas diárias de estudo, de sono, uso de redes sociais, tempo em plataformas de streaming e se o estudante tem ou não um emprego de meio período — pretendo investigar perguntas como:\n",
    "- Há uma relação entre o tempo de estudo diário e a frequência às aulas?\n",
    "- Estudantes que dormem mais ou têm melhor alimentação têm maior frequência ou hábitos mais saudáveis de estudo?\n",
    "- O uso de redes sociais ou streaming impacta negativamente a frequência?\n",
    "- Quais variáveis parecem mais influenciar uma alta ou baixa attendance_percentage?\n",
    "\n",
    "A ideia é explorar essas relações com visualizações, análises estatísticas básicas (como correlação) e interpretações que possam indicar quais hábitos são mais comuns entre estudantes com boa participação nas aulas — e possivelmente, melhor desempenho.a é aplicar técnicas de análise de dados, criar visualizações e interpretar os resultados para tirar conclusões que possam, inclusive, orientar boas práticas para melhorar a performance acadêmica."
   ]
  },
  {
   "cell_type": "code",
   "execution_count": null,
   "metadata": {},
   "outputs": [],
   "source": [
    "import pandas as pd\n",
    "import plotly.express as px"
   ]
  },
  {
   "cell_type": "code",
   "execution_count": null,
   "metadata": {},
   "outputs": [],
   "source": [
    "tabela = pd.read_csv(\"student_habits_performance.csv\")"
   ]
  },
  {
   "cell_type": "code",
   "execution_count": null,
   "metadata": {},
   "outputs": [],
   "source": [
    "display(tabela)"
   ]
  },
  {
   "cell_type": "code",
   "execution_count": null,
   "metadata": {},
   "outputs": [],
   "source": [
    "tabela = tabela.drop(columns=\"student_id\")\n",
    "tabela = tabela.dropna()\n",
    "display(tabela.info())"
   ]
  },
  {
   "cell_type": "code",
   "execution_count": null,
   "metadata": {},
   "outputs": [],
   "source": [
    "# # Há uma relação entre o tempo de estudo diário e a frequência às aulas?\n",
    "# # display(tabela[\"study_hours_per_day\"].sort_values().value_counts())\n",
    "# # display(tabela[\"attendance_percentage\"].sort_values().value_counts())\n",
    "\n",
    "studyPerDay_frequency = px.bar(tabela, x=tabela[\"study_hours_per_day\"], y=tabela[\"attendance_percentage\"], title='Relação entre tempo de estudo diário e frequência às aulas')\n",
    "studyPerDay_frequency.show()\n",
    "#\n",
    "# estudantes com rotinas de estudo, tendem a ter mais frequencia"
   ]
  },
  {
   "cell_type": "code",
   "execution_count": null,
   "metadata": {},
   "outputs": [],
   "source": [
    "# # Estudantes que dormem mais ou têm melhor alimentação têm maior frequência ou hábitos mais saudáveis de estudo?\n",
    "\n",
    "sleepHours_frequency = px.bar(tabela, x=tabela[\"sleep_hours\"], y=tabela[\"attendance_percentage\"], title=\"Relação entre tempo de sono e frequência:\")\n",
    "sleepHours_frequency.show()\n",
    "#\n",
    "# estudantes com uma boa media de sono, tendem a possuir mais frequencia\n",
    "\n",
    "dietQuality_frequency = px.bar(tabela, x=tabela[\"diet_quality\"], y=tabela[\"attendance_percentage\"], title=\"Relação entre qualidade da dieta e frequência:\")\n",
    "dietQuality_frequency.show()\n",
    "#\n",
    "# estudantes com uma alimentação melhor, possuem uma melhor frequencia\n"
   ]
  },
  {
   "cell_type": "code",
   "execution_count": null,
   "metadata": {},
   "outputs": [],
   "source": [
    "# # O uso de redes sociais ou streaming impacta negativamente a frequência?\n",
    "\n",
    "socialMediaHour_frequency = px.bar(tabela, x=tabela[\"social_media_hours\"], y=tabela[\"attendance_percentage\"], title='Relação entre tempo gasto em midias sociais e frequencia escolar')\n",
    "socialMediaHour_frequency.show()\n",
    "\n",
    "# estudantes com mais de 4 horas diarias em midias sociais tenedem a ter menos frequencia\n",
    "\n",
    "streamersHours_frequency = px.bar(tabela, x=tabela[\"netflix_hours\"], y=tabela[\"attendance_percentage\"], title='Relação entre horas em streaming e frequencia escolar')\n",
    "streamersHours_frequency.show()\n",
    "\n",
    "# estudantes que gastam muitas horas em streaming tendem a ter menos frequencia\n",
    "\n",
    "# # merge entre social media e streaming hours\n",
    "tabela['total_screen_time'] = tabela['social_media_hours'] + tabela['netflix_hours']\n",
    "graph = px.bar(tabela, x='total_screen_time', y='attendance_percentage')\n",
    "graph.show()\n",
    "#\n",
    "# estudantes com mais tempo de tela (midias sociais e streamings) tendem a ter mais faltas"
   ]
  },
  {
   "cell_type": "code",
   "execution_count": null,
   "metadata": {},
   "outputs": [],
   "source": [
    "# # Saude mental impacta na frequencia?\n",
    "\n",
    "mentalHealth_frequency = px.histogram(tabela, x=tabela[\"mental_health_rating\"], y=tabela[\"attendance_percentage\"], title=\"Relação entre saude mental e frequencia escolar\")\n",
    "mentalHealth_frequency.show() # aparentemente nao há impacto"
   ]
  },
  {
   "cell_type": "code",
   "execution_count": null,
   "metadata": {},
   "outputs": [],
   "source": [
    "dietQuality_score = px.histogram(tabela, x=tabela[\"diet_quality\"], y=tabela[\"exam_score\"])\n",
    "dietQuality_score.show()\n",
    "#\n",
    "# estudantes com má alimentação possuem notas menores"
   ]
  },
  {
   "cell_type": "code",
   "execution_count": null,
   "metadata": {},
   "outputs": [],
   "source": [
    "scores_frequency = px.histogram(tabela, x=tabela[\"attendance_percentage\"], y=tabela[\"exam_score\"])\n",
    "scores_frequency.show()\n",
    "#\n",
    "# estudantes com pouca presença, possuem menores notas"
   ]
  },
  {
   "cell_type": "code",
   "execution_count": null,
   "metadata": {},
   "outputs": [],
   "source": [
    "# Analizar correlação entre ATTENDANCE PERCENTAGE e os outros dados\n",
    "print(tabela.corr(numeric_only=True)[\"attendance_percentage\"].sort_values(ascending=True))\n",
    "# Dado com maior correlação:\n",
    "    # EXEM SCORE"
   ]
  },
  {
   "cell_type": "code",
   "execution_count": null,
   "metadata": {},
   "outputs": [],
   "source": [
    "# Analizar correlação entre EXAM SCORE e os outros dados\n",
    "print(tabela.corr(numeric_only=True)[\"exam_score\"].sort_values(ascending=True))\n",
    "# Dados com maior correlação:\n",
    "    # STUDY HOURS PER DAY -> +estudo, melhores notas\n",
    "    # MENTAL HEALTH RATING -> +saude mental, melhores notas\n",
    "    # SOCIAL MEDIA HOUR -> +tempo em rede social, menor frequencia\n",
    "\n",
    "# ou seja, estudantes que estudam mais e passam pouco tempo em redes sociais e cuidam melhor da sude mental, possuem notas melhores, logo, possuindo mais frequencia"
   ]
  },
  {
   "cell_type": "markdown",
   "metadata": {},
   "source": [
    "# Quais variáveis parecem mais influenciar uma alta ou baixa attendance_percentage??\n",
    "- Relação estudo x frequência: existe uma relação positiva, mas não muito forte.\n",
    "- Sono e alimentação: podem influenciar, mas a correlação é mais fraca.\n",
    "- Uso de redes sociais e streaming: impactam negativamente, principalmente na frequência e desempenho.\n",
    "\n",
    "# Variáveis que influenciam mais a frequência: \n",
    "Parece que o desempenho e hábitos ligados a estudo e saúde mental são indicadores mais fortes."
   ]
  }
 ],
 "metadata": {
  "kernelspec": {
   "display_name": "Python 3",
   "language": "python",
   "name": "python3"
  },
  "language_info": {
   "codemirror_mode": {
    "name": "ipython",
    "version": 3
   },
   "file_extension": ".py",
   "mimetype": "text/x-python",
   "name": "python",
   "nbconvert_exporter": "python",
   "pygments_lexer": "ipython3",
   "version": "3.13.3"
  },
  "orig_nbformat": 4
 },
 "nbformat": 4,
 "nbformat_minor": 2
}
